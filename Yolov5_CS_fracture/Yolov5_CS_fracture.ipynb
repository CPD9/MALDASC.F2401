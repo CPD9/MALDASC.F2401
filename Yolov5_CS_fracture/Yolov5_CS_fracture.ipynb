{
 "cells": [
  {
   "cell_type": "code",
   "execution_count": 2,
   "id": "c4257466-a19d-48bd-a03a-5aa0d38757ab",
   "metadata": {},
   "outputs": [
    {
     "name": "stdout",
     "output_type": "stream",
     "text": [
      "cp: cannot stat 'kaggle.json': No such file or directory\n",
      "{\"username\":\"raffaeleamp\",\"key\":\"7e2b55c7c2035149694148b45c844759\"}"
     ]
    }
   ],
   "source": [
    "!pip install -q kaggle\n",
    "!mkdir -p ./.kaggle\n",
    "!cp kaggle.json ./.kaggle/\n",
    "!chmod 600 ./.kaggle/kaggle.json\n",
    "!cat ./.kaggle/kaggle.json "
   ]
  },
  {
   "cell_type": "code",
   "execution_count": 5,
   "id": "8e877d13-89d6-443f-848b-704e22e66b02",
   "metadata": {},
   "outputs": [
    {
     "name": "stdout",
     "output_type": "stream",
     "text": [
      "Dataset URL: https://www.kaggle.com/datasets/haqishen/rsna-cropped-2d-224-0920-2m\n",
      "License(s): CC0-1.0\n",
      "Downloading rsna-cropped-2d-224-0920-2m.zip to /home/jovyan\n",
      "100%|█████████████████████████████████████▉| 37.5G/37.5G [22:34<00:00, 35.2MB/s]\n",
      "100%|██████████████████████████████████████| 37.5G/37.5G [22:34<00:00, 29.7MB/s]\n"
     ]
    }
   ],
   "source": [
    "!kaggle datasets download -d haqishen/rsna-cropped-2d-224-0920-2m"
   ]
  },
  {
   "cell_type": "code",
   "execution_count": 5,
   "id": "c2352dec-bd5c-4053-a1b5-cf620a08da98",
   "metadata": {},
   "outputs": [
    {
     "name": "stdout",
     "output_type": "stream",
     "text": [
      "Dataset URL: https://www.kaggle.com/datasets/vbookshelf/spine-fracture-comp-data\n",
      "License(s): unknown\n",
      "Downloading spine-fracture-comp-data.zip to /home/jovyan\n",
      "100%|█████████████████████████████████████▉| 0.98G/0.98G [00:38<00:00, 29.6MB/s]\n",
      "100%|██████████████████████████████████████| 0.98G/0.98G [00:38<00:00, 27.1MB/s]\n"
     ]
    }
   ],
   "source": [
    "!kaggle datasets download -d vbookshelf/spine-fracture-comp-data"
   ]
  },
  {
   "cell_type": "code",
   "execution_count": null,
   "id": "8a3f1511-7d59-4a18-b331-736685204118",
   "metadata": {},
   "outputs": [],
   "source": [
    "!unzip ./rsna-2022-cervical-spine-fracture-detection.zip -d ./Dataset"
   ]
  },
  {
   "cell_type": "code",
   "execution_count": null,
   "id": "daf0fb9c-dd32-47ad-bbab-c9e4b4391dd4",
   "metadata": {},
   "outputs": [],
   "source": [
    "!unzip ./rsna-cropped-2d-224-0920-2m.zip -d ./Dataset"
   ]
  },
  {
   "cell_type": "code",
   "execution_count": null,
   "id": "536443a3-729d-48c5-8fb5-4d1ec0e011cd",
   "metadata": {},
   "outputs": [],
   "source": [
    "!unzip ./spine-fracture-comp-data.zip -d ./Dataset"
   ]
  },
  {
   "cell_type": "code",
   "execution_count": 9,
   "id": "e1e492f0-fa63-478b-b7da-d9c430304914",
   "metadata": {},
   "outputs": [
    {
     "name": "stdout",
     "output_type": "stream",
     "text": [
      "Number of files in /home/jovyan/Dataset/images_dir: 8217\n",
      "Number of files in /home/jovyan/Dataset/images_dir: 8217\n"
     ]
    }
   ],
   "source": [
    "import os\n",
    "\n",
    "# Directory pathimport os\n",
    "\n",
    "# Directory path\n",
    "directory = '/home/jovyan/Dataset/images_dir'\n",
    "\n",
    "try:\n",
    "    # List all files in the directory\n",
    "    files = os.listdir(directory)\n",
    "    \n",
    "    # Count the number of files\n",
    "    num_files = len(files)\n",
    "    \n",
    "    print(f\"Number of files in {directory}: {num_files}\")\n",
    "except FileNotFoundError:\n",
    "    print(f\"Directory '{directory}' not found.\")\n",
    "except Exception as e:\n",
    "    print(f\"An unexpected error occurred: {e}\")\n",
    "\n",
    "directory = '/home/jovyan/Dataset/images_dir'\n",
    "\n",
    "try:\n",
    "    # List all files in the directory\n",
    "    files = os.listdir(directory)\n",
    "    \n",
    "    # Count the number of files\n",
    "    num_files = len(files)\n",
    "    \n",
    "    print(f\"Number of files in {directory}: {num_files}\")\n",
    "except FileNotFoundError:\n",
    "    print(f\"Directory '{directory}' not found.\")\n",
    "except Exception as e:\n",
    "    print(f\"An unexpected error occurred: {e}\")\n"
   ]
  },
  {
   "cell_type": "code",
   "execution_count": 9,
   "id": "c98e6ea7-7b7d-4f3b-a334-41ed1f07965f",
   "metadata": {},
   "outputs": [
    {
     "name": "stdout",
     "output_type": "stream",
     "text": [
      "Requirement already satisfied: pandas in /opt/conda/lib/python3.11/site-packages (2.2.2)\n",
      "Collecting pydicom\n",
      "  Obtaining dependency information for pydicom from https://files.pythonhosted.org/packages/35/2a/8c0f6fe243e6b6793868c6834203a44cc8f3f25abad780e1c7b21e15594d/pydicom-2.4.4-py3-none-any.whl.metadata\n",
      "  Using cached pydicom-2.4.4-py3-none-any.whl.metadata (7.8 kB)\n",
      "Requirement already satisfied: Pillow in /opt/conda/lib/python3.11/site-packages (10.3.0)\n",
      "Requirement already satisfied: numpy>=1.23.2 in /opt/conda/lib/python3.11/site-packages (from pandas) (1.26.0)\n",
      "Requirement already satisfied: python-dateutil>=2.8.2 in /opt/conda/lib/python3.11/site-packages (from pandas) (2.8.2)\n",
      "Requirement already satisfied: pytz>=2020.1 in /opt/conda/lib/python3.11/site-packages (from pandas) (2023.3.post1)\n",
      "Requirement already satisfied: tzdata>=2022.7 in /opt/conda/lib/python3.11/site-packages (from pandas) (2023.3)\n",
      "Requirement already satisfied: six>=1.5 in /opt/conda/lib/python3.11/site-packages (from python-dateutil>=2.8.2->pandas) (1.16.0)\n",
      "Using cached pydicom-2.4.4-py3-none-any.whl (1.8 MB)\n",
      "Installing collected packages: pydicom\n",
      "Successfully installed pydicom-2.4.4\n"
     ]
    }
   ],
   "source": [
    "!pip install pandas pydicom Pillow\n"
   ]
  },
  {
   "cell_type": "code",
   "execution_count": 10,
   "id": "d7188341-a696-42a2-930b-d909290c1ac7",
   "metadata": {},
   "outputs": [
    {
     "name": "stdout",
     "output_type": "stream",
     "text": [
      "Requirement already satisfied: pillow in /opt/conda/lib/python3.11/site-packages (10.3.0)\n"
     ]
    }
   ],
   "source": [
    "!pip install pillow"
   ]
  },
  {
   "cell_type": "code",
   "execution_count": 4,
   "id": "f62d20d9-5d17-48ae-a5d1-c81b2fffe1cc",
   "metadata": {},
   "outputs": [
    {
     "name": "stdout",
     "output_type": "stream",
     "text": [
      "Collecting pylibjpeg\n",
      "  Obtaining dependency information for pylibjpeg from https://files.pythonhosted.org/packages/de/02/d5610461d3924f9d13be07442e1c3f45d210b52f25cda8ed7304081ec4e8/pylibjpeg-2.0.0-py3-none-any.whl.metadata\n",
      "  Using cached pylibjpeg-2.0.0-py3-none-any.whl.metadata (7.8 kB)\n",
      "Requirement already satisfied: numpy in /opt/conda/lib/python3.11/site-packages (from pylibjpeg) (1.26.0)\n",
      "Using cached pylibjpeg-2.0.0-py3-none-any.whl (24 kB)\n",
      "Installing collected packages: pylibjpeg\n",
      "Successfully installed pylibjpeg-2.0.0\n",
      "Note: you may need to restart the kernel to use updated packages.\n"
     ]
    }
   ],
   "source": [
    "!pip install pylibjpeg"
   ]
  },
  {
   "cell_type": "code",
   "execution_count": 5,
   "id": "65533dbe-300f-4514-94d7-440b84c36833",
   "metadata": {},
   "outputs": [
    {
     "name": "stdout",
     "output_type": "stream",
     "text": [
      "Collecting gdcm\n",
      "  Obtaining dependency information for gdcm from https://files.pythonhosted.org/packages/dd/65/82789cb6ac4a7bcc126721def19f05f866973ea0c61c6da51d069e9a57d3/gdcm-1.1-py3-none-manylinux1_x86_64.whl.metadata\n",
      "  Using cached gdcm-1.1-py3-none-manylinux1_x86_64.whl.metadata (167 bytes)\n",
      "Using cached gdcm-1.1-py3-none-manylinux1_x86_64.whl (2.7 MB)\n",
      "Installing collected packages: gdcm\n",
      "Successfully installed gdcm-1.1\n",
      "Note: you may need to restart the kernel to use updated packages.\n"
     ]
    }
   ],
   "source": [
    "!pip install gdcm\n"
   ]
  },
  {
   "cell_type": "code",
   "execution_count": 6,
   "id": "f0bf9f47-3f02-47d1-824d-de5810cb529a",
   "metadata": {},
   "outputs": [
    {
     "name": "stdout",
     "output_type": "stream",
     "text": [
      "Collecting pylibjpeg-libjpeg\n",
      "  Obtaining dependency information for pylibjpeg-libjpeg from https://files.pythonhosted.org/packages/3b/4a/8debd5c101f4e590c13d9a9f7e6ba9d63e01acdd0fef126fe9f3737b72ed/pylibjpeg_libjpeg-2.1.0-cp311-cp311-manylinux_2_17_x86_64.manylinux2014_x86_64.whl.metadata\n",
      "  Using cached pylibjpeg_libjpeg-2.1.0-cp311-cp311-manylinux_2_17_x86_64.manylinux2014_x86_64.whl.metadata (4.8 kB)\n",
      "Requirement already satisfied: numpy<2.0,>=1.24 in /opt/conda/lib/python3.11/site-packages (from pylibjpeg-libjpeg) (1.26.0)\n",
      "Using cached pylibjpeg_libjpeg-2.1.0-cp311-cp311-manylinux_2_17_x86_64.manylinux2014_x86_64.whl (3.4 MB)\n",
      "Installing collected packages: pylibjpeg-libjpeg\n",
      "Successfully installed pylibjpeg-libjpeg-2.1.0\n"
     ]
    }
   ],
   "source": [
    "!pip install pylibjpeg-libjpeg"
   ]
  },
  {
   "cell_type": "code",
   "execution_count": 4,
   "id": "81c65549-eee7-4b46-94b4-89bcf7559ffc",
   "metadata": {},
   "outputs": [
    {
     "name": "stdout",
     "output_type": "stream",
     "text": [
      "Requirement already satisfied: ultralytics in /opt/conda/lib/python3.11/site-packages (8.2.16)\n",
      "Requirement already satisfied: matplotlib>=3.3.0 in /opt/conda/lib/python3.11/site-packages (from ultralytics) (3.9.0)\n",
      "Requirement already satisfied: opencv-python>=4.6.0 in /opt/conda/lib/python3.11/site-packages (from ultralytics) (4.9.0.80)\n",
      "Requirement already satisfied: pillow>=7.1.2 in /opt/conda/lib/python3.11/site-packages (from ultralytics) (10.3.0)\n",
      "Requirement already satisfied: pyyaml>=5.3.1 in /opt/conda/lib/python3.11/site-packages (from ultralytics) (6.0.1)\n",
      "Requirement already satisfied: requests>=2.23.0 in /opt/conda/lib/python3.11/site-packages (from ultralytics) (2.31.0)\n",
      "Requirement already satisfied: scipy>=1.4.1 in /opt/conda/lib/python3.11/site-packages (from ultralytics) (1.11.3)\n",
      "Requirement already satisfied: torch>=1.8.0 in /opt/conda/lib/python3.11/site-packages (from ultralytics) (2.1.0)\n",
      "Requirement already satisfied: torchvision>=0.9.0 in /opt/conda/lib/python3.11/site-packages (from ultralytics) (0.16.0)\n",
      "Requirement already satisfied: tqdm>=4.64.0 in /opt/conda/lib/python3.11/site-packages (from ultralytics) (4.66.1)\n",
      "Requirement already satisfied: psutil in /opt/conda/lib/python3.11/site-packages (from ultralytics) (5.9.5)\n",
      "Requirement already satisfied: py-cpuinfo in /opt/conda/lib/python3.11/site-packages (from ultralytics) (9.0.0)\n",
      "Requirement already satisfied: thop>=0.1.1 in /opt/conda/lib/python3.11/site-packages (from ultralytics) (0.1.1.post2209072238)\n",
      "Requirement already satisfied: pandas>=1.1.4 in /opt/conda/lib/python3.11/site-packages (from ultralytics) (2.2.2)\n",
      "Requirement already satisfied: seaborn>=0.11.0 in /opt/conda/lib/python3.11/site-packages (from ultralytics) (0.13.2)\n",
      "Requirement already satisfied: contourpy>=1.0.1 in /opt/conda/lib/python3.11/site-packages (from matplotlib>=3.3.0->ultralytics) (1.2.1)\n",
      "Requirement already satisfied: cycler>=0.10 in /opt/conda/lib/python3.11/site-packages (from matplotlib>=3.3.0->ultralytics) (0.12.1)\n",
      "Requirement already satisfied: fonttools>=4.22.0 in /opt/conda/lib/python3.11/site-packages (from matplotlib>=3.3.0->ultralytics) (4.51.0)\n",
      "Requirement already satisfied: kiwisolver>=1.3.1 in /opt/conda/lib/python3.11/site-packages (from matplotlib>=3.3.0->ultralytics) (1.4.5)\n",
      "Requirement already satisfied: numpy>=1.23 in /opt/conda/lib/python3.11/site-packages (from matplotlib>=3.3.0->ultralytics) (1.26.0)\n",
      "Requirement already satisfied: packaging>=20.0 in /opt/conda/lib/python3.11/site-packages (from matplotlib>=3.3.0->ultralytics) (23.1)\n",
      "Requirement already satisfied: pyparsing>=2.3.1 in /opt/conda/lib/python3.11/site-packages (from matplotlib>=3.3.0->ultralytics) (3.1.1)\n",
      "Requirement already satisfied: python-dateutil>=2.7 in /opt/conda/lib/python3.11/site-packages (from matplotlib>=3.3.0->ultralytics) (2.8.2)\n",
      "Requirement already satisfied: pytz>=2020.1 in /opt/conda/lib/python3.11/site-packages (from pandas>=1.1.4->ultralytics) (2023.3.post1)\n",
      "Requirement already satisfied: tzdata>=2022.7 in /opt/conda/lib/python3.11/site-packages (from pandas>=1.1.4->ultralytics) (2023.3)\n",
      "Requirement already satisfied: charset-normalizer<4,>=2 in /opt/conda/lib/python3.11/site-packages (from requests>=2.23.0->ultralytics) (3.2.0)\n",
      "Requirement already satisfied: idna<4,>=2.5 in /opt/conda/lib/python3.11/site-packages (from requests>=2.23.0->ultralytics) (3.4)\n",
      "Requirement already satisfied: urllib3<3,>=1.21.1 in /opt/conda/lib/python3.11/site-packages (from requests>=2.23.0->ultralytics) (2.0.4)\n",
      "Requirement already satisfied: certifi>=2017.4.17 in /opt/conda/lib/python3.11/site-packages (from requests>=2.23.0->ultralytics) (2023.7.22)\n",
      "Requirement already satisfied: filelock in /opt/conda/lib/python3.11/site-packages (from torch>=1.8.0->ultralytics) (3.12.4)\n",
      "Requirement already satisfied: typing-extensions in /opt/conda/lib/python3.11/site-packages (from torch>=1.8.0->ultralytics) (4.5.0)\n",
      "Requirement already satisfied: sympy in /opt/conda/lib/python3.11/site-packages (from torch>=1.8.0->ultralytics) (1.12)\n",
      "Requirement already satisfied: networkx in /opt/conda/lib/python3.11/site-packages (from torch>=1.8.0->ultralytics) (3.1)\n",
      "Requirement already satisfied: jinja2 in /opt/conda/lib/python3.11/site-packages (from torch>=1.8.0->ultralytics) (3.1.2)\n",
      "Requirement already satisfied: fsspec in /opt/conda/lib/python3.11/site-packages (from torch>=1.8.0->ultralytics) (2023.9.2)\n",
      "Requirement already satisfied: six>=1.5 in /opt/conda/lib/python3.11/site-packages (from python-dateutil>=2.7->matplotlib>=3.3.0->ultralytics) (1.16.0)\n",
      "Requirement already satisfied: MarkupSafe>=2.0 in /opt/conda/lib/python3.11/site-packages (from jinja2->torch>=1.8.0->ultralytics) (2.1.3)\n",
      "Requirement already satisfied: mpmath>=0.19 in /opt/conda/lib/python3.11/site-packages (from sympy->torch>=1.8.0->ultralytics) (1.3.0)\n",
      "Requirement already satisfied: opencv-python-headless in /opt/conda/lib/python3.11/site-packages (4.9.0.80)\n",
      "Requirement already satisfied: numpy>=1.21.2 in /opt/conda/lib/python3.11/site-packages (from opencv-python-headless) (1.26.0)\n"
     ]
    }
   ],
   "source": [
    "# This fixes issue: ImportError: libGL.so.1: cannot open shared object file: No such file or directory\n",
    "!pip install ultralytics\n",
    "!pip install opencv-python-headless\n",
    "import cv2"
   ]
  },
  {
   "cell_type": "code",
   "execution_count": 5,
   "id": "b27234dc-cdea-4399-b295-e2ea54d5970d",
   "metadata": {
    "scrolled": true
   },
   "outputs": [
    {
     "name": "stderr",
     "output_type": "stream",
     "text": [
      "YOLOv5 🚀 v7.0-306-gb599ae42 Python-3.11.5 torch-2.1.0 CUDA:0 (NVIDIA A16, 15097MiB)\n"
     ]
    },
    {
     "name": "stdout",
     "output_type": "stream",
     "text": [
      "Setup complete ✅ (128 CPUs, 503.7 GB RAM, 176.7/245.5 GB disk)\n"
     ]
    }
   ],
   "source": [
    "!git clone https://github.com/ultralytics/yolov5  # clone\n",
    "%cd yolov5\n",
    "%pip install -qr requirements.txt  # install\n",
    "\n",
    "import torch\n",
    "import utils\n",
    "display = utils.notebook_init()  # checks"
   ]
  },
  {
   "cell_type": "code",
   "execution_count": 6,
   "id": "2d5f6b6b-dc17-48cd-a9ec-6b74d4176c30",
   "metadata": {},
   "outputs": [
    {
     "name": "stdout",
     "output_type": "stream",
     "text": [
      "Number of files in '/home/jovyan/datasets/coco128/images/train': 13151\n"
     ]
    }
   ],
   "source": [
    "import os\n",
    "\n",
    "# Directory path\n",
    "directory = \"/home/jovyan/datasets/coco128/images/train\"\n",
    "\n",
    "# List all files in the directory\n",
    "files = os.listdir(directory)\n",
    "\n",
    "# Count the number of files\n",
    "num_files = len(files)\n",
    "\n",
    "print(f\"Number of files in '{directory}': {num_files}\")\n"
   ]
  },
  {
   "cell_type": "code",
   "execution_count": null,
   "id": "ed0886c0-2839-4e92-b6a1-54b6919f22fa",
   "metadata": {},
   "outputs": [],
   "source": [
    "IMAGE AUGMENTATION"
   ]
  },
  {
   "cell_type": "code",
   "execution_count": null,
   "id": "d214ccbe-1177-48ad-97e5-96886a838055",
   "metadata": {},
   "outputs": [],
   "source": [
    "import os\n",
    "\n",
    "# Directory containing the label files\n",
    "label_dir = '/home/jovyan/datasets/coco128/labels/train'\n",
    "\n",
    "# Create a list of all .txt files in the directory\n",
    "txt_files = [f for f in os.listdir(label_dir) if f.endswith('.txt')]\n",
    "\n",
    "# Loop through each file\n",
    "for file_name in txt_files:\n",
    "    # Read the original label file\n",
    "    label_path = os.path.join(label_dir, file_name)\n",
    "    with open(label_path, 'r') as file:\n",
    "        lines = file.readlines()\n",
    "    \n",
    "    # Process each line to adjust the y-coordinate for vertical flip\n",
    "    new_lines = []\n",
    "    for line in lines:\n",
    "        parts = line.strip().split()\n",
    "        class_id = parts[0]\n",
    "        x_center = float(parts[1])\n",
    "        y_center = float(parts[2])\n",
    "        width = float(parts[3])\n",
    "        height = float(parts[4])\n",
    "        \n",
    "        # Adjust the y-coordinate for vertical flip\n",
    "        new_y_center = 1.0 - y_center\n",
    "        \n",
    "        new_line = f\"{class_id} {x_center:.6f} {new_y_center:.6f} {width:.6f} {height:.6f}\\n\"\n",
    "        new_lines.append(new_line)\n",
    "    \n",
    "    # Create the new file name\n",
    "    base_name, ext = os.path.splitext(file_name)\n",
    "    new_file_name = f\"{base_name}_aug{ext}\"\n",
    "    new_label_path = os.path.join(label_dir, new_file_name)\n",
    "    \n",
    "    # Write the adjusted coordinates to the new label file\n",
    "    with open(new_label_path, 'w') as new_file:\n",
    "        new_file.writelines(new_lines)\n",
    "\n",
    "print(\"Label augmentation completed.\")\n"
   ]
  },
  {
   "cell_type": "code",
   "execution_count": 12,
   "id": "bdb0359f-535e-46c9-a829-22fa9f5ab072",
   "metadata": {},
   "outputs": [
    {
     "name": "stdout",
     "output_type": "stream",
     "text": [
      "Image augmentation completed.\n"
     ]
    }
   ],
   "source": [
    "import os\n",
    "from PIL import Image\n",
    "\n",
    "# Directory containing the images\n",
    "image_dir = '/home/jovyan/datasets/coco128/images/train'\n",
    "\n",
    "# Create a list of all PNG files in the directory\n",
    "png_files = [f for f in os.listdir(image_dir) if f.endswith('.png')]\n",
    "\n",
    "# Loop through each file\n",
    "for file_name in png_files:\n",
    "    # Open the image\n",
    "    image_path = os.path.join(image_dir, file_name)\n",
    "    image = Image.open(image_path)\n",
    "    \n",
    "    # Flip the image vertically\n",
    "    flipped_image = image.transpose(Image.FLIP_TOP_BOTTOM)\n",
    "    \n",
    "    # Create the new file name\n",
    "    base_name, ext = os.path.splitext(file_name)\n",
    "    new_file_name = f\"{base_name}_aug{ext}\"\n",
    "    new_image_path = os.path.join(image_dir, new_file_name)\n",
    "    \n",
    "    # Save the flipped image\n",
    "    flipped_image.save(new_image_path)\n",
    "\n",
    "print(\"Image augmentation completed.\")\n"
   ]
  },
  {
   "cell_type": "code",
   "execution_count": null,
   "id": "6e6bc1b1-dbe7-412e-9b54-2a739e4cccf6",
   "metadata": {},
   "outputs": [],
   "source": [
    "PREPARATORY WORK"
   ]
  },
  {
   "cell_type": "code",
   "execution_count": 30,
   "id": "e76cc2f0-8957-4bbe-b1bd-88d1ce5b6836",
   "metadata": {},
   "outputs": [],
   "source": [
    "# Ref:\n",
    "# Reading and Writing YAML to a File in Python\n",
    "# https://stackabuse.com/reading-and-writing-yaml-to-a-file-in-python\n",
    "\n",
    "yaml_dict = {'train': '/home/jovyan/datasets/coco128/images/train',   # path to the train folder\n",
    "            'val': '/home/jovyan/datasets/coco128/images/val', # path to the val folder\n",
    "            'nc': 2,                             # number of classes\n",
    "            'names': ['0','1']}                # list of label names\n",
    "\n",
    "\n",
    "\n",
    "# Create the yaml file called my_data.yaml\n",
    "# We will save this file inside the yolov5 folder.\n",
    "\n",
    "import yaml\n",
    "\n",
    "with open(r'yolov5/my_data.yaml', 'w') as file:\n",
    "    documents = yaml.dump(yaml_dict, file)\n"
   ]
  },
  {
   "cell_type": "code",
   "execution_count": 7,
   "id": "0a45e5bf-de70-4ce6-95c3-2d0eb1ee3d83",
   "metadata": {},
   "outputs": [
    {
     "data": {
      "text/plain": [
       "['.git',\n",
       " '.dockerignore',\n",
       " '.gitattributes',\n",
       " '.github',\n",
       " '.gitignore',\n",
       " 'CITATION.cff',\n",
       " 'CONTRIBUTING.md',\n",
       " 'LICENSE',\n",
       " 'README.md',\n",
       " 'README.zh-CN.md',\n",
       " 'benchmarks.py',\n",
       " 'classify',\n",
       " 'data',\n",
       " 'detect.py',\n",
       " 'export.py',\n",
       " 'hubconf.py',\n",
       " 'models',\n",
       " 'pyproject.toml',\n",
       " 'requirements.txt',\n",
       " 'segment',\n",
       " 'train.py',\n",
       " 'tutorial.ipynb',\n",
       " 'utils',\n",
       " 'val.py',\n",
       " 'yolov5',\n",
       " 'my_data.yaml']"
      ]
     },
     "execution_count": 7,
     "metadata": {},
     "output_type": "execute_result"
    }
   ],
   "source": [
    "os.listdir('yolov5')"
   ]
  },
  {
   "cell_type": "code",
   "execution_count": 8,
   "id": "8350128c-f590-4c0b-b542-f55617e3d7f4",
   "metadata": {},
   "outputs": [
    {
     "name": "stdout",
     "output_type": "stream",
     "text": [
      "names:\n",
      "- fractured\n",
      "nc: 1\n",
      "train: /home/jovyan/datasets/coco128/images/train\n",
      "val: /home/jovyan/datasets/coco128/images/val\n"
     ]
    }
   ],
   "source": [
    "! cat 'yolov5/my_data.yaml'"
   ]
  },
  {
   "cell_type": "code",
   "execution_count": 10,
   "id": "68ee1682-2999-4c84-a7f4-e292e94cf6b1",
   "metadata": {},
   "outputs": [],
   "source": [
    "# https://stackabuse.com/reading-and-writing-yaml-to-a-file-in-python\n",
    "yaml_dict = {\n",
    "    \n",
    "'lr0': 0.01,  # initial learning rate (SGD=1E-2, Adam=1E-3)\n",
    "'lrf': 0.032,  # final OneCycleLR learning rate (lr0 * lrf)\n",
    "'momentum': 0.937,  # SGD momentum/Adam beta1\n",
    "'weight_decay': 0.0005,  # optimizer weight decay 5e-4\n",
    "'warmup_epochs': 3.0,  # warmup epochs (fractions ok)\n",
    "'warmup_momentum': 0.8,  # warmup initial momentum\n",
    "'warmup_bias_lr': 0.1,  # warmup initial bias lr\n",
    "'box': 0.1,  # box loss gain\n",
    "'cls': 1.0,  # cls loss gain\n",
    "'cls_pw': 0.5,  # cls BCELoss positive_weight\n",
    "'obj': 2.0,  # obj loss gain (scale with pixels)\n",
    "'obj_pw': 0.5,  # obj BCELoss positive_weight\n",
    "'iou_t': 0.20,  # IoU training threshold\n",
    "'anchor_t': 4.0,  # anchor-multiple threshold\n",
    "'anchors': 0,  # anchors per output layer (0 to ignore)\n",
    "'fl_gamma': 0.0,  # focal loss gamma (efficientDet default gamma=1.5)\n",
    "'hsv_h': 0,  # image HSV-Hue augmentation (fraction)\n",
    "'hsv_s': 0,  # image HSV-Saturation augmentation (fraction)\n",
    "'hsv_v': 0,  # image HSV-Value augmentation (fraction)\n",
    "'degrees': 30.0,  # image rotation (+/- deg)\n",
    "'translate': 0.2,  # image translation (+/- fraction)\n",
    "'scale': 0.3,  # image scale (+/- gain)\n",
    "'shear': 0.0,  # image shear (+/- deg)\n",
    "'perspective': 0.0,  # image perspective (+/- fraction), range 0-0.001\n",
    "'flipud': 0.2,  # image flip up-down (probability)\n",
    "'fliplr': 0.5,  # image flip left-right (probability)\n",
    "'mosaic': 0.8,  # image mosaic (probability)\n",
    "'mixup': 0.0  # image mixup (probability)\n",
    "    \n",
    "}\n",
    "\n",
    "import yaml\n",
    "\n",
    "with open('/home/jovyan/yolov5/my_hyp.yaml', 'w') as file:\n",
    "    documents = yaml.dump(yaml_dict, file)\n"
   ]
  },
  {
   "cell_type": "code",
   "execution_count": 11,
   "id": "f1186ce5-259a-41bc-bbe8-889c8c5b77c0",
   "metadata": {},
   "outputs": [
    {
     "data": {
      "text/plain": [
       "['.git',\n",
       " '.dockerignore',\n",
       " '.gitattributes',\n",
       " '.github',\n",
       " '.gitignore',\n",
       " 'CITATION.cff',\n",
       " 'CONTRIBUTING.md',\n",
       " 'LICENSE',\n",
       " 'README.md',\n",
       " 'README.zh-CN.md',\n",
       " 'benchmarks.py',\n",
       " 'classify',\n",
       " 'data',\n",
       " 'detect.py',\n",
       " 'export.py',\n",
       " 'hubconf.py',\n",
       " 'models',\n",
       " 'pyproject.toml',\n",
       " 'requirements.txt',\n",
       " 'segment',\n",
       " 'train.py',\n",
       " 'tutorial.ipynb',\n",
       " 'utils',\n",
       " 'val.py',\n",
       " 'yolov5',\n",
       " 'my_data.yaml',\n",
       " 'Untitled.ipynb',\n",
       " '.ipynb_checkpoints',\n",
       " 'my_hyp.yaml']"
      ]
     },
     "execution_count": 11,
     "metadata": {},
     "output_type": "execute_result"
    }
   ],
   "source": [
    "os.listdir('yolov5')"
   ]
  },
  {
   "cell_type": "code",
   "execution_count": 12,
   "id": "f292fa17-9dc6-4b1e-872d-17462f9a5146",
   "metadata": {},
   "outputs": [
    {
     "name": "stdout",
     "output_type": "stream",
     "text": [
      "anchor_t: 4.0\n",
      "anchors: 0\n",
      "box: 0.1\n",
      "cls: 1.0\n",
      "cls_pw: 0.5\n",
      "degrees: 30.0\n",
      "fl_gamma: 0.0\n",
      "fliplr: 0.5\n",
      "flipud: 0.2\n",
      "hsv_h: 0\n",
      "hsv_s: 0\n",
      "hsv_v: 0\n",
      "iou_t: 0.2\n",
      "lr0: 0.01\n",
      "lrf: 0.032\n",
      "mixup: 0.0\n",
      "momentum: 0.937\n",
      "mosaic: 0.8\n",
      "obj: 2.0\n",
      "obj_pw: 0.5\n",
      "perspective: 0.0\n",
      "scale: 0.3\n",
      "shear: 0.0\n",
      "translate: 0.2\n",
      "warmup_bias_lr: 0.1\n",
      "warmup_epochs: 3.0\n",
      "warmup_momentum: 0.8\n",
      "weight_decay: 0.0005\n"
     ]
    }
   ],
   "source": [
    "! cat 'yolov5/my_hyp.yaml'"
   ]
  },
  {
   "cell_type": "code",
   "execution_count": 2,
   "id": "128e26e4-ec88-4a1b-9f85-97c5d065ddef",
   "metadata": {},
   "outputs": [
    {
     "name": "stdout",
     "output_type": "stream",
     "text": [
      "/bin/bash: line 1: php: command not found\n"
     ]
    },
    {
     "ename": "ModuleNotFoundError",
     "evalue": "No module named 'utils'",
     "output_type": "error",
     "traceback": [
      "\u001b[0;31m---------------------------------------------------------------------------\u001b[0m",
      "\u001b[0;31mModuleNotFoundError\u001b[0m                       Traceback (most recent call last)",
      "Cell \u001b[0;32mIn[2], line 2\u001b[0m\n\u001b[1;32m      1\u001b[0m get_ipython()\u001b[38;5;241m.\u001b[39msystem(\u001b[38;5;124m'\u001b[39m\u001b[38;5;124mphp install utils\u001b[39m\u001b[38;5;124m'\u001b[39m)\n\u001b[0;32m----> 2\u001b[0m \u001b[38;5;28;01mfrom\u001b[39;00m \u001b[38;5;21;01mutils\u001b[39;00m\u001b[38;5;21;01m.\u001b[39;00m\u001b[38;5;21;01mplots\u001b[39;00m \u001b[38;5;28;01mimport\u001b[39;00m plot_results\n\u001b[1;32m      4\u001b[0m plot_results(\u001b[38;5;124m'\u001b[39m\u001b[38;5;124mpath/to/results.csv\u001b[39m\u001b[38;5;124m'\u001b[39m)  \u001b[38;5;66;03m# plot 'results.csv' as 'results.png'\u001b[39;00m\n",
      "\u001b[0;31mModuleNotFoundError\u001b[0m: No module named 'utils'"
     ]
    }
   ],
   "source": [
    "!php install utils\n",
    "from utils.plots import plot_results\n",
    "\n",
    "plot_results('path/to/results.csv')  # plot 'results.csv' as 'results.png'"
   ]
  },
  {
   "cell_type": "code",
   "execution_count": null,
   "id": "3ffc1c0f-eb0a-4026-95cb-fc93dcb75253",
   "metadata": {
    "scrolled": true
   },
   "outputs": [
    {
     "name": "stdout",
     "output_type": "stream",
     "text": [
      "\u001b[34m\u001b[1mtrain: \u001b[0mweights=yolov5s.pt, cfg=, data=my_data.yaml, hyp=my_hyp.yaml, epochs=80, batch_size=32, imgsz=512, rect=False, resume=False, nosave=False, noval=False, noautoanchor=False, noplots=False, evolve=None, evolve_population=yolov5/data/hyps, resume_evolve=None, bucket=, cache=None, image_weights=False, device=, multi_scale=False, single_cls=False, optimizer=SGD, sync_bn=False, workers=8, project=yolov5/runs/train, name=exp, exist_ok=False, quad=False, cos_lr=False, label_smoothing=0.0, patience=100, freeze=[0], save_period=-1, seed=0, local_rank=-1, entity=None, upload_dataset=False, bbox_interval=-1, artifact_alias=latest, ndjson_console=False, ndjson_file=False\n",
      "\u001b[34m\u001b[1mgithub: \u001b[0m⚠️ YOLOv5 is out of date by 6 commits. Use 'git pull' or 'git clone https://github.com/ultralytics/yolov5' to update.\n",
      "YOLOv5 🚀 v7.0-306-gb599ae42 Python-3.11.5 torch-2.1.0 CUDA:0 (NVIDIA A16, 15097MiB)\n",
      "\n",
      "\u001b[34m\u001b[1mhyperparameters: \u001b[0manchor_t=4.0, anchors=0, box=0.1, cls=1.0, cls_pw=0.5, degrees=30.0, fl_gamma=0.0, fliplr=0.5, flipud=0.2, hsv_h=0, hsv_s=0, hsv_v=0, iou_t=0.2, lr0=0.001, lrf=1, mixup=0.0, momentum=0.937, mosaic=0.8, obj=2.0, obj_pw=0.5, perspective=0.0, scale=0.3, shear=0.0, translate=0.2, warmup_bias_lr=0.1, warmup_epochs=3.0, warmup_momentum=0.8, weight_decay=0.0005, copy_paste=0.0\n",
      "\u001b[34m\u001b[1mComet: \u001b[0mrun 'pip install comet_ml' to automatically track and visualize YOLOv5 🚀 runs in Comet\n",
      "\u001b[34m\u001b[1mTensorBoard: \u001b[0mStart with 'tensorboard --logdir yolov5/runs/train', view at http://localhost:6006/\n",
      "Overriding model.yaml nc=80 with nc=2\n",
      "\n",
      "                 from  n    params  module                                  arguments                     \n",
      "  0                -1  1      3520  models.common.Conv                      [3, 32, 6, 2, 2]              \n",
      "  1                -1  1     18560  models.common.Conv                      [32, 64, 3, 2]                \n",
      "  2                -1  1     18816  models.common.C3                        [64, 64, 1]                   \n",
      "  3                -1  1     73984  models.common.Conv                      [64, 128, 3, 2]               \n",
      "  4                -1  2    115712  models.common.C3                        [128, 128, 2]                 \n",
      "  5                -1  1    295424  models.common.Conv                      [128, 256, 3, 2]              \n",
      "  6                -1  3    625152  models.common.C3                        [256, 256, 3]                 \n",
      "  7                -1  1   1180672  models.common.Conv                      [256, 512, 3, 2]              \n",
      "  8                -1  1   1182720  models.common.C3                        [512, 512, 1]                 \n",
      "  9                -1  1    656896  models.common.SPPF                      [512, 512, 5]                 \n",
      " 10                -1  1    131584  models.common.Conv                      [512, 256, 1, 1]              \n",
      " 11                -1  1         0  torch.nn.modules.upsampling.Upsample    [None, 2, 'nearest']          \n",
      " 12           [-1, 6]  1         0  models.common.Concat                    [1]                           \n",
      " 13                -1  1    361984  models.common.C3                        [512, 256, 1, False]          \n",
      " 14                -1  1     33024  models.common.Conv                      [256, 128, 1, 1]              \n",
      " 15                -1  1         0  torch.nn.modules.upsampling.Upsample    [None, 2, 'nearest']          \n",
      " 16           [-1, 4]  1         0  models.common.Concat                    [1]                           \n",
      " 17                -1  1     90880  models.common.C3                        [256, 128, 1, False]          \n",
      " 18                -1  1    147712  models.common.Conv                      [128, 128, 3, 2]              \n",
      " 19          [-1, 14]  1         0  models.common.Concat                    [1]                           \n",
      " 20                -1  1    296448  models.common.C3                        [256, 256, 1, False]          \n",
      " 21                -1  1    590336  models.common.Conv                      [256, 256, 3, 2]              \n",
      " 22          [-1, 10]  1         0  models.common.Concat                    [1]                           \n",
      " 23                -1  1   1182720  models.common.C3                        [512, 512, 1, False]          \n",
      " 24      [17, 20, 23]  1     18879  models.yolo.Detect                      [2, [[10, 13, 16, 30, 33, 23], [30, 61, 62, 45, 59, 119], [116, 90, 156, 198, 373, 326]], [128, 256, 512]]\n",
      "Model summary: 214 layers, 7025023 parameters, 7025023 gradients, 16.0 GFLOPs\n",
      "\n",
      "Transferred 343/349 items from yolov5s.pt\n",
      "\u001b[34m\u001b[1mAMP: \u001b[0mchecks passed ✅\n",
      "\u001b[34m\u001b[1moptimizer:\u001b[0m SGD(lr=0.001) with parameter groups 57 weight(decay=0.0), 60 weight(decay=0.0005), 60 bias\n",
      "\u001b[34m\u001b[1mtrain: \u001b[0mScanning /home/jovyan/datasets/coco128/labels/train.cache... 11576 images\u001b[0m\n",
      "\u001b[34m\u001b[1mval: \u001b[0mScanning /home/jovyan/datasets/coco128/labels/val.cache... 1429 images, 213\u001b[0m\n",
      "\n",
      "\u001b[34m\u001b[1mAutoAnchor: \u001b[0m5.58 anchors/target, 1.000 Best Possible Recall (BPR). Current anchors are a good fit to dataset ✅\n",
      "Plotting labels to yolov5/runs/train/exp11/labels.jpg... \n",
      "Image sizes 512 train, 512 val\n",
      "Using 8 dataloader workers\n",
      "Logging results to \u001b[1myolov5/runs/train/exp11\u001b[0m\n",
      "Starting training for 80 epochs...\n",
      "\n",
      "      Epoch    GPU_mem   box_loss   obj_loss   cls_loss  Instances       Size\n",
      "       0/79      4.31G      0.181    0.02101    0.01696         38        512: 1\n",
      "                 Class     Images  Instances          P          R      mAP50   \n",
      "                   all       1642       1429    0.00182      0.626     0.0164    0.00347\n",
      "\n",
      "      Epoch    GPU_mem   box_loss   obj_loss   cls_loss  Instances       Size\n",
      "       1/79      5.37G     0.1358     0.0174   0.001944         40        512: 1\n",
      "                 Class     Images  Instances          P          R      mAP50   \n",
      "                   all       1642       1429      0.092       0.23     0.0614     0.0133\n",
      "\n",
      "      Epoch    GPU_mem   box_loss   obj_loss   cls_loss  Instances       Size\n",
      "       2/79      5.37G     0.1246    0.01615  0.0007107         41        512: 1\n",
      "                 Class     Images  Instances          P          R      mAP50   \n",
      "                   all       1642       1429      0.151      0.201     0.0992     0.0221\n",
      "\n",
      "      Epoch    GPU_mem   box_loss   obj_loss   cls_loss  Instances       Size\n",
      "       3/79      5.37G     0.1166     0.0155  0.0004234         36        512: 1\n",
      "                 Class     Images  Instances          P          R      mAP50   \n",
      "                   all       1642       1429      0.166      0.176     0.0906     0.0217\n",
      "\n",
      "      Epoch    GPU_mem   box_loss   obj_loss   cls_loss  Instances       Size\n",
      "       4/79      5.37G     0.1116    0.01509  0.0003245         31        512: 1\n",
      "                 Class     Images  Instances          P          R      mAP50   \n",
      "                   all       1642       1429       0.24      0.225      0.135     0.0335\n",
      "\n",
      "      Epoch    GPU_mem   box_loss   obj_loss   cls_loss  Instances       Size\n",
      "       5/79      5.37G     0.1065    0.01467  0.0002714         43        512: 1\n",
      "                 Class     Images  Instances          P          R      mAP50   \n",
      "                   all       1642       1429      0.215      0.205      0.128     0.0321\n",
      "\n",
      "      Epoch    GPU_mem   box_loss   obj_loss   cls_loss  Instances       Size\n",
      "       6/79      5.37G      0.103    0.01432  0.0002425         34        512: 1\n",
      "                 Class     Images  Instances          P          R      mAP50   \n",
      "                   all       1642       1429      0.253      0.247       0.13     0.0317\n",
      "\n",
      "      Epoch    GPU_mem   box_loss   obj_loss   cls_loss  Instances       Size\n",
      "       7/79      5.37G    0.09964    0.01407  0.0002218         33        512: 1\n",
      "                 Class     Images  Instances          P          R      mAP50   \n",
      "                   all       1642       1429      0.264      0.199       0.13     0.0354\n",
      "\n",
      "      Epoch    GPU_mem   box_loss   obj_loss   cls_loss  Instances       Size\n",
      "       8/79      5.37G    0.09713    0.01385  0.0002102         40        512: 1\n",
      "                 Class     Images  Instances          P          R      mAP50   \n",
      "                   all       1642       1429      0.216      0.207      0.107     0.0279\n",
      "\n",
      "      Epoch    GPU_mem   box_loss   obj_loss   cls_loss  Instances       Size\n",
      "       9/79      5.37G    0.09419    0.01362   0.000199         38        512: 1\n",
      "                 Class     Images  Instances          P          R      mAP50   \n",
      "                   all       1642       1429      0.208       0.15     0.0972      0.026\n",
      "\n",
      "      Epoch    GPU_mem   box_loss   obj_loss   cls_loss  Instances       Size\n",
      "      10/79      5.37G    0.09207    0.01334  0.0001869         38        512: 1\n",
      "                 Class     Images  Instances          P          R      mAP50   \n",
      "                   all       1642       1429      0.271      0.201      0.125     0.0331\n",
      "\n",
      "      Epoch    GPU_mem   box_loss   obj_loss   cls_loss  Instances       Size\n",
      "      11/79      5.37G    0.09029    0.01321  0.0001798         33        512: 1\n",
      "                 Class     Images  Instances          P          R      mAP50   \n",
      "                   all       1642       1429      0.182      0.173     0.0801     0.0188\n",
      "\n",
      "      Epoch    GPU_mem   box_loss   obj_loss   cls_loss  Instances       Size\n",
      "      12/79      5.37G    0.08815    0.01289  0.0001746         36        512: 1\n",
      "                 Class     Images  Instances          P          R      mAP50   \n",
      "                   all       1642       1429      0.229      0.201      0.136     0.0358\n",
      "\n",
      "      Epoch    GPU_mem   box_loss   obj_loss   cls_loss  Instances       Size\n",
      "      13/79      5.37G    0.08583    0.01264  0.0001703         35        512: 1\n",
      "                 Class     Images  Instances          P          R      mAP50   \n",
      "                   all       1642       1429      0.258      0.197       0.13     0.0339\n",
      "\n",
      "      Epoch    GPU_mem   box_loss   obj_loss   cls_loss  Instances       Size\n",
      "      14/79      5.37G    0.08436     0.0126   0.000166         38        512: 1\n",
      "                 Class     Images  Instances          P          R      mAP50   \n",
      "                   all       1642       1429      0.233       0.19      0.106     0.0256\n",
      "\n",
      "      Epoch    GPU_mem   box_loss   obj_loss   cls_loss  Instances       Size\n",
      "      15/79      5.37G    0.08329    0.01251   0.000156         37        512: 1\n",
      "                 Class     Images  Instances          P          R      mAP50   \n",
      "                   all       1642       1429      0.213      0.183      0.114     0.0288\n",
      "\n",
      "      Epoch    GPU_mem   box_loss   obj_loss   cls_loss  Instances       Size\n",
      "      16/79      5.37G    0.08095    0.01219  0.0001544         31        512: 1\n",
      "                 Class     Images  Instances          P          R      mAP50   \n",
      "                   all       1642       1429      0.282      0.235      0.135     0.0344\n",
      "\n",
      "      Epoch    GPU_mem   box_loss   obj_loss   cls_loss  Instances       Size\n",
      "      17/79      5.37G    0.07991     0.0121  0.0001508         33        512: 1\n",
      "                 Class     Images  Instances          P          R      mAP50   \n",
      "                   all       1642       1429      0.235      0.168      0.106     0.0257\n",
      "\n",
      "      Epoch    GPU_mem   box_loss   obj_loss   cls_loss  Instances       Size\n",
      "      18/79      5.37G    0.07881      0.012   0.000149         33        512: 1\n",
      "                 Class     Images  Instances          P          R      mAP50   \n",
      "                   all       1642       1429      0.208      0.181      0.089     0.0218\n",
      "\n",
      "      Epoch    GPU_mem   box_loss   obj_loss   cls_loss  Instances       Size\n",
      "      19/79      5.37G    0.07744    0.01179  0.0001482         34        512: 1\n",
      "                 Class     Images  Instances          P          R      mAP50   \n",
      "                   all       1642       1429      0.245      0.184      0.123     0.0309\n",
      "\n",
      "      Epoch    GPU_mem   box_loss   obj_loss   cls_loss  Instances       Size\n",
      "      20/79      5.37G    0.07609    0.01155  0.0001451         40        512: 1\n",
      "                 Class     Images  Instances          P          R      mAP50   \n",
      "                   all       1642       1429      0.227      0.209      0.124     0.0322\n",
      "\n",
      "      Epoch    GPU_mem   box_loss   obj_loss   cls_loss  Instances       Size\n",
      "      21/79      5.37G    0.07557     0.0116  0.0001406         36        512: 1\n",
      "                 Class     Images  Instances          P          R      mAP50   \n",
      "                   all       1642       1429      0.251      0.203      0.142     0.0372\n",
      "\n",
      "      Epoch    GPU_mem   box_loss   obj_loss   cls_loss  Instances       Size\n",
      "      22/79      5.37G    0.07383    0.01144  0.0001399         33        512: 1\n",
      "                 Class     Images  Instances          P          R      mAP50   \n",
      "                   all       1642       1429      0.219      0.185      0.112     0.0292\n",
      "\n",
      "      Epoch    GPU_mem   box_loss   obj_loss   cls_loss  Instances       Size\n",
      "      23/79      5.37G    0.07262     0.0112  0.0001392         35        512: 1\n",
      "                 Class     Images  Instances          P          R      mAP50   \n",
      "                   all       1642       1429      0.242      0.199      0.115     0.0304\n",
      "\n",
      "      Epoch    GPU_mem   box_loss   obj_loss   cls_loss  Instances       Size\n",
      "      24/79      5.37G    0.07162    0.01113   0.000133         36        512: 1\n",
      "                 Class     Images  Instances          P          R      mAP50   \n",
      "                   all       1642       1429      0.213       0.19      0.121     0.0296\n",
      "\n",
      "      Epoch    GPU_mem   box_loss   obj_loss   cls_loss  Instances       Size\n",
      "      25/79      5.37G     0.0716    0.01111  0.0001354         32        512: 1\n",
      "                 Class     Images  Instances          P          R      mAP50   \n",
      "                   all       1642       1429      0.225       0.19      0.124     0.0323\n",
      "\n",
      "      Epoch    GPU_mem   box_loss   obj_loss   cls_loss  Instances       Size\n",
      "      26/79      5.37G    0.07057    0.01096  0.0001336         34        512: 1\n",
      "                 Class     Images  Instances          P          R      mAP50   \n",
      "                   all       1642       1429      0.243      0.184      0.119     0.0304\n",
      "\n",
      "      Epoch    GPU_mem   box_loss   obj_loss   cls_loss  Instances       Size\n",
      "      27/79      5.37G    0.06977    0.01079  0.0001316         38        512: 1\n",
      "                 Class     Images  Instances          P          R      mAP50   \n",
      "                   all       1642       1429      0.293      0.187      0.133     0.0331\n",
      "\n",
      "      Epoch    GPU_mem   box_loss   obj_loss   cls_loss  Instances       Size\n",
      "      28/79      5.37G    0.06871    0.01074  0.0001286         35        512: 1\n",
      "                 Class     Images  Instances          P          R      mAP50   \n",
      "                   all       1642       1429       0.22      0.155     0.0944     0.0242\n",
      "\n",
      "      Epoch    GPU_mem   box_loss   obj_loss   cls_loss  Instances       Size\n",
      "      29/79      5.37G    0.06845     0.0107  0.0001243         44        512: 1\n",
      "                 Class     Images  Instances          P          R      mAP50   \n",
      "                   all       1642       1429      0.195       0.16     0.0901     0.0228\n",
      "\n",
      "      Epoch    GPU_mem   box_loss   obj_loss   cls_loss  Instances       Size\n",
      "      30/79      5.37G     0.0675    0.01054  0.0001244         37        512: 1\n",
      "                 Class     Images  Instances          P          R      mAP50   \n",
      "                   all       1642       1429      0.251      0.199      0.135     0.0351\n",
      "\n",
      "      Epoch    GPU_mem   box_loss   obj_loss   cls_loss  Instances       Size\n",
      "      31/79      5.37G    0.06757    0.01048  0.0001244         31        512: 1\n",
      "                 Class     Images  Instances          P          R      mAP50   \n",
      "                   all       1642       1429      0.239      0.183      0.114     0.0291\n",
      "\n",
      "      Epoch    GPU_mem   box_loss   obj_loss   cls_loss  Instances       Size\n",
      "      32/79      5.37G    0.06634    0.01041  0.0001201         33        512: 1\n",
      "                 Class     Images  Instances          P          R      mAP50   \n",
      "                   all       1642       1429       0.23      0.166       0.11     0.0285\n",
      "\n",
      "      Epoch    GPU_mem   box_loss   obj_loss   cls_loss  Instances       Size\n",
      "      33/79      5.37G     0.0658    0.01025  0.0001196         38        512: 1\n",
      "                 Class     Images  Instances          P          R      mAP50   \n",
      "                   all       1642       1429      0.236      0.164       0.11     0.0285\n",
      "\n",
      "      Epoch    GPU_mem   box_loss   obj_loss   cls_loss  Instances       Size\n",
      "      34/79      5.37G    0.06545    0.01032  0.0001206         34        512: 1\n",
      "                 Class     Images  Instances          P          R      mAP50   \n",
      "                   all       1642       1429      0.261      0.174      0.118     0.0313\n",
      "\n",
      "      Epoch    GPU_mem   box_loss   obj_loss   cls_loss  Instances       Size\n",
      "      35/79      5.37G     0.0647    0.01021   0.000119         37        512: 1\n",
      "                 Class     Images  Instances          P          R      mAP50   \n",
      "                   all       1642       1429      0.244      0.169       0.12     0.0312\n",
      "\n",
      "      Epoch    GPU_mem   box_loss   obj_loss   cls_loss  Instances       Size\n",
      "      36/79      5.37G    0.06448    0.01014  0.0001188         41        512: 1\n",
      "                 Class     Images  Instances          P          R      mAP50   \n",
      "                   all       1642       1429      0.252      0.177      0.134     0.0351\n",
      "\n",
      "      Epoch    GPU_mem   box_loss   obj_loss   cls_loss  Instances       Size\n",
      "      37/79      5.37G    0.06427     0.0101   0.000119         32        512: 1\n",
      "                 Class     Images  Instances          P          R      mAP50   \n",
      "                   all       1642       1429      0.228      0.158      0.102     0.0255\n",
      "\n",
      "      Epoch    GPU_mem   box_loss   obj_loss   cls_loss  Instances       Size\n",
      "      38/79      5.37G    0.06316    0.01004  0.0001165         33        512: 1\n",
      "                 Class     Images  Instances          P          R      mAP50   \n",
      "                   all       1642       1429      0.233      0.154      0.102     0.0264\n",
      "\n",
      "      Epoch    GPU_mem   box_loss   obj_loss   cls_loss  Instances       Size\n",
      "      39/79      5.37G    0.06243   0.009824   0.000115         34        512: 1\n",
      "                 Class     Images  Instances          P          R      mAP50   \n",
      "                   all       1642       1429      0.246      0.176      0.121     0.0304\n",
      "\n",
      "      Epoch    GPU_mem   box_loss   obj_loss   cls_loss  Instances       Size\n",
      "      40/79      5.37G    0.06215   0.009862   0.000115         35        512: 1\n",
      "                 Class     Images  Instances          P          R      mAP50   \n",
      "                   all       1642       1429      0.242      0.159      0.118     0.0296\n",
      "\n",
      "      Epoch    GPU_mem   box_loss   obj_loss   cls_loss  Instances       Size\n",
      "      41/79      5.37G    0.06189   0.009858  0.0001122         33        512: 1\n",
      "                 Class     Images  Instances          P          R      mAP50   \n",
      "                   all       1642       1429      0.245      0.162      0.112     0.0295\n",
      "\n",
      "      Epoch    GPU_mem   box_loss   obj_loss   cls_loss  Instances       Size\n",
      "      42/79      5.37G     0.0614   0.009718  0.0001138         32        512: 1\n",
      "                 Class     Images  Instances          P          R      mAP50   \n",
      "                   all       1642       1429      0.226      0.151        0.1     0.0249\n",
      "\n",
      "      Epoch    GPU_mem   box_loss   obj_loss   cls_loss  Instances       Size\n",
      "      43/79      5.37G    0.06092   0.009706  0.0001109         40        512: 1\n",
      "                 Class     Images  Instances          P          R      mAP50   \n",
      "                   all       1642       1429      0.237      0.151      0.102     0.0258\n",
      "\n",
      "      Epoch    GPU_mem   box_loss   obj_loss   cls_loss  Instances       Size\n",
      "      44/79      5.37G    0.06058   0.009571  0.0001088         39        512: 1\n",
      "                 Class     Images  Instances          P          R      mAP50   \n",
      "                   all       1642       1429      0.253      0.153      0.101     0.0266\n",
      "\n",
      "      Epoch    GPU_mem   box_loss   obj_loss   cls_loss  Instances       Size\n",
      "      45/79      5.37G    0.06062    0.00952  0.0001117         42        512:  "
     ]
    }
   ],
   "source": [
    "!python yolov5/train.py --img 512 --batch 32 --epochs 80 --data my_data.yaml --weights yolov5s.pt --hyp my_hyp.yaml"
   ]
  },
  {
   "cell_type": "code",
   "execution_count": null,
   "id": "26153d29-b7a7-4b61-acb3-184e8434cd57",
   "metadata": {},
   "outputs": [],
   "source": []
  }
 ],
 "metadata": {
  "kernelspec": {
   "display_name": "Python 3 (ipykernel)",
   "language": "python",
   "name": "python3"
  },
  "language_info": {
   "codemirror_mode": {
    "name": "ipython",
    "version": 3
   },
   "file_extension": ".py",
   "mimetype": "text/x-python",
   "name": "python",
   "nbconvert_exporter": "python",
   "pygments_lexer": "ipython3",
   "version": "3.11.5"
  }
 },
 "nbformat": 4,
 "nbformat_minor": 5
}
